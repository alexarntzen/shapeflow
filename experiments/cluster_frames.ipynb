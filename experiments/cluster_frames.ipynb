{
 "cells": [
  {
   "cell_type": "code",
   "execution_count": null,
   "metadata": {},
   "outputs": [],
   "source": [
    "%load_ext autoreload\n",
    "%autoreload 2"
   ]
  },
  {
   "cell_type": "code",
   "execution_count": null,
   "metadata": {},
   "outputs": [],
   "source": [
    "import copy\n",
    "import os\n",
    "import numpy as np\n",
    "import torch\n",
    "import torch.distributions as dist\n",
    "import pandas as pd\n",
    "import matplotlib.pyplot as plt\n",
    "from matplotlib_inline.backend_inline import set_matplotlib_formats\n",
    "import matplotlib\n",
    "import seaborn as sns\n",
    "from tqdm.auto import tqdm\n",
    "from signatureshape.animation import fetch_animations\n",
    "import extratorch as etorch\n",
    "import shapeflow as sf"
   ]
  },
  {
   "cell_type": "code",
   "execution_count": null,
   "metadata": {},
   "outputs": [],
   "source": [
    "# make reproducible\n",
    "seed = torch.manual_seed(0)\n",
    "# better plotting\n",
    "\n",
    "set_matplotlib_formats(\"pdf\", \"svg\")\n",
    "matplotlib.rcParams.update({\"font.size\": 12})\n",
    "set_matplotlib_formats(\"pdf\", \"svg\")\n",
    "plt.style.use(\"tableau-colorblind10\")\n",
    "sns.set_style(\"white\")"
   ]
  },
  {
   "cell_type": "code",
   "execution_count": null,
   "metadata": {},
   "outputs": [],
   "source": [
    "# fetch data as so3\n",
    "# we assume all have the same skeleton\n",
    "print(\"Loading mocap data:\")\n",
    "# walk  data\n",
    "walk_subjects = [\"07\", \"08\", \"35\", \"16\"]\n",
    "\n",
    "walk_animations = []\n",
    "walk_desc = []\n",
    "for s in walk_subjects:\n",
    "    for t in fetch_animations(100, subject_file_name=(s + \".asf\")):\n",
    "        if t[2][:4] == \"walk\":\n",
    "            walk_animations.append(t[1])\n",
    "            walk_desc.append(t[2])\n",
    "\n",
    "walk_animations_train_frame = sum(\n",
    "    len(anim.get_frames()) for anim in walk_animations[:18]\n",
    ")\n",
    "\n",
    "# run data\n",
    "run_subjects = [\"09\", \"16\", \"35\"]\n",
    "run_animations = []\n",
    "run_skeletons = []\n",
    "for s in run_subjects:\n",
    "\n",
    "    for t in fetch_animations(100, subject_file_name=(s + \".asf\")):\n",
    "        if t[2][:3] == \"run\":\n",
    "            run_skeletons.append(t[0])\n",
    "            run_animations.append(t[1])\n",
    "\n",
    "print(\"Convert to array:\")\n",
    "walk_angle_array = sf.utils.animation_to_eulers(\n",
    "    walk_animations,\n",
    "    reduce_shape=True,\n",
    "    remove_root=True,\n",
    "    deg2rad=True,\n",
    "    skeleton=run_skeletons[0],\n",
    "    max_frame_count=240,\n",
    ")\n",
    "run_angle_array = sf.utils.animation_to_eulers(\n",
    "    run_animations,\n",
    "    reduce_shape=True,\n",
    "    remove_root=True,\n",
    "    deg2rad=True,\n",
    "    skeleton=run_skeletons[0],\n",
    "    max_frame_count=240,\n",
    ")"
   ]
  },
  {
   "cell_type": "code",
   "execution_count": null,
   "metadata": {},
   "outputs": [],
   "source": [
    "run_angle_array.shape, walk_angle_array.shape"
   ]
  },
  {
   "cell_type": "code",
   "execution_count": null,
   "metadata": {},
   "outputs": [],
   "source": [
    "walk_angle_tensor_ = torch.tensor(walk_angle_array, dtype=torch.float32)\n",
    "run_angle_tensor_ = torch.tensor(run_angle_array, dtype=torch.float32)\n",
    "wr_angle_tensor_ = torch.cat((walk_angle_tensor_, run_angle_tensor_))\n",
    "\n",
    "# normalize\n",
    "std, mean = torch.std_mean(wr_angle_tensor_, dim=0)\n",
    "wr_angle_tensor_norm = (wr_angle_tensor_ - mean) / std\n",
    "run_angle_tensor_norm = (run_angle_tensor_ - mean) / std\n",
    "walk_angle_tensor_norm = (walk_angle_tensor_ - mean) / std\n",
    "\n",
    "nonzero = torch.argwhere(\n",
    "    torch.sum(torch.abs(torch.diff(wr_angle_tensor_, dim=0)), dim=0) > 0.0\n",
    ").flatten()\n",
    "choosen = nonzero[\n",
    "    [\n",
    "        0,\n",
    "        1,\n",
    "        14,\n",
    "        26,\n",
    "        33,\n",
    "    ]\n",
    "]\n",
    "# [[24,26,33,34]]\n",
    "\n",
    "walk_angle_tensor = walk_angle_tensor_norm[:, choosen]\n",
    "run_angle_tensor = run_angle_tensor_norm[:, choosen]\n",
    "wr_angle_tensor = wr_angle_tensor_norm[:, choosen]"
   ]
  },
  {
   "cell_type": "code",
   "execution_count": null,
   "metadata": {},
   "outputs": [],
   "source": [
    "# make priors\n",
    "run_len = run_angle_tensor.shape[0]\n",
    "walk_len = walk_angle_tensor.shape[0]\n",
    "prior_run = torch.cat((torch.ones(run_len), torch.zeros(walk_len)))\n",
    "# p run, walk\n",
    "priors = torch.stack((prior_run, abs(prior_run - 1)), dim=1)\n",
    "eps = torch.rand(len(priors)) * 0.1\n",
    "priors[:, 1] = 0.5 + eps\n",
    "priors[:, 0] = 0.5 - eps"
   ]
  },
  {
   "cell_type": "code",
   "execution_count": null,
   "metadata": {},
   "outputs": [],
   "source": [
    "data_walk = torch.utils.data.TensorDataset(walk_angle_tensor)\n",
    "data_run = torch.utils.data.TensorDataset(run_angle_tensor)\n",
    "data = torch.utils.data.TensorDataset(wr_angle_tensor, priors, priors)"
   ]
  },
  {
   "cell_type": "code",
   "execution_count": null,
   "metadata": {},
   "outputs": [],
   "source": [
    "#######\n",
    "DIR = \"../figures/cluster_frames/\"\n",
    "SET_NAME = \"cont_euler_4\"\n",
    "PATH_FIGURES = os.path.join(DIR, SET_NAME)\n",
    "if not os.path.exists(PATH_FIGURES):\n",
    "    os.makedirs(PATH_FIGURES)\n",
    "########\n",
    "\n",
    "event_shape = data[0][0].shape\n",
    "base_dist = dist.Independent(\n",
    "    dist.Normal(loc=torch.zeros(event_shape), scale=torch.ones(event_shape)), 1\n",
    ")\n",
    "\n",
    "lr_scheduler = lambda optim: torch.optim.lr_scheduler.ReduceLROnPlateau(\n",
    "    optim, mode=\"min\", factor=0.5, patience=5, verbose=True\n",
    ")\n",
    "MODEL_PARAMS = {\n",
    "    \"model\": sf.nf.get_flow,\n",
    "    \"get_transform\": sf.transforms.NDETransform,\n",
    "    \"base_dist\": base_dist,\n",
    "    \"get_net\": etorch.models.FFNN,\n",
    "    \"activation\": \"tanh\",\n",
    "    \"inverse_model\": True,\n",
    "    \"num_flows\": 2,\n",
    "    \"sensitivity\": \"autograd\",\n",
    "}\n",
    "EXTRA_M_PARAMS = {\n",
    "    \"neurons\": [16],\n",
    "    \"n_hidden_layers\": [4],\n",
    "}\n",
    "\n",
    "TRAINING_PARAMS = {\n",
    "    \"batch_size\": [5000],\n",
    "    \"compute_loss\": [sf.nf.get_monte_carlo_elbo_loss()],\n",
    "    \"verbose\": True,\n",
    "}\n",
    "# extend the previous dict with the zip of this\n",
    "EXTRA_T_PARAMS = {\n",
    "    \"optimizer\": [\"ADAM\"],\n",
    "    \"num_epochs\": [50],\n",
    "    \"learning_rate\": [0.01],\n",
    "    \"lr_scheduler\": [lr_scheduler],\n",
    "}"
   ]
  },
  {
   "cell_type": "code",
   "execution_count": null,
   "metadata": {},
   "outputs": [],
   "source": [
    "m_temp_1 = etorch.create_subdictionary_iterator(MODEL_PARAMS, product=True)\n",
    "m_temp_2 = etorch.create_subdictionary_iterator(EXTRA_M_PARAMS, product=False)\n",
    "model_params_iter = etorch.add_dictionary_iterators(m_temp_1, m_temp_2, product=True)\n",
    "\n",
    "t_temp_1 = etorch.create_subdictionary_iterator(TRAINING_PARAMS, product=True)\n",
    "t_temp_2 = etorch.create_subdictionary_iterator(EXTRA_T_PARAMS, product=False)\n",
    "training_params_iter = etorch.add_dictionary_iterators(t_temp_1, t_temp_2, product=True)\n",
    "cv_results = etorch.k_fold_cv_grid(\n",
    "    model_params=model_params_iter,\n",
    "    fit=etorch.fit_module,\n",
    "    training_params=training_params_iter,\n",
    "    data=data,\n",
    "    verbose=True,\n",
    ")"
   ]
  },
  {
   "cell_type": "code",
   "execution_count": null,
   "metadata": {},
   "outputs": [],
   "source": [
    "etorch.plotting.plot_result(\n",
    "    path_figures=PATH_FIGURES,\n",
    "    **cv_results,\n",
    ")"
   ]
  },
  {
   "cell_type": "code",
   "execution_count": null,
   "metadata": {},
   "outputs": [],
   "source": [
    "s = run_skeletons[0]\n",
    "bonelist = []\n",
    "for b in s.bones.items():\n",
    "    for dof in b[1].dof:\n",
    "        bonelist.append(b[0] + \" \" + dof)"
   ]
  },
  {
   "cell_type": "code",
   "execution_count": null,
   "metadata": {},
   "outputs": [],
   "source": [
    "i, j = 2, 3\n",
    "models = cv_results[\"models\"][0][0]\n",
    "run_point = data_run[:][0]\n",
    "\n",
    "sample0 = models[0].sample([1000]).detach()\n",
    "sample1 = models[1].sample([1000]).detach()\n",
    "df0 = pd.DataFrame({\"x\": sample0[:, j], \"y\": sample0[:, i], \"Flow\": [0] * len(sample0)})\n",
    "df1 = pd.DataFrame({\"x\": sample1[:, j], \"y\": sample1[:, i], \"Flow\": [1] * len(sample1)})\n",
    "df = pd.concat((df0, df1), axis=0)\n",
    "df.index = range(len(df))\n",
    "sns.displot(df, x=\"x\", y=\"y\", hue=\"Flow\", kind=\"kde\")\n",
    "plt.scatter(\n",
    "    run_point[:, j], run_point[:, i], marker=\"x\", color=\"grey\", label=\"Run samples\"\n",
    ")\n",
    "walk_points = data_walk[:][0]\n",
    "plt.scatter(walk_points[:, j], walk_points[:, i], color=\"green\", label=\"Walk samples\")\n",
    "# plt.xlim(-0.7, 3)\n",
    "# plt.ylim(-0.8, 0.4)\n",
    "plt.xlabel(bonelist[choosen[j]])\n",
    "plt.ylabel(bonelist[choosen[i]])\n",
    "plt.legend()\n",
    "\n",
    "plt.savefig(PATH_FIGURES + \"/axis_distribution.pdf\")\n",
    "plt.show()"
   ]
  },
  {
   "cell_type": "code",
   "execution_count": null,
   "metadata": {},
   "outputs": [],
   "source": []
  },
  {
   "cell_type": "code",
   "execution_count": null,
   "metadata": {},
   "outputs": [],
   "source": [
    "motion_data = data_walk[:][0]\n",
    "print(\n",
    "    \"Number in class 1 given  walk data:\",\n",
    "    torch.sum(models[0].log_prob(motion_data) < models[1].log_prob(motion_data)).item(),\n",
    "    \"\\nTotal walk data:\",\n",
    "    len(motion_data),\n",
    ")\n",
    "\n",
    "motion_data = data_run[:][0]\n",
    "print(\n",
    "    \"Number in class 1 given  run data:\",\n",
    "    torch.sum(models[0].log_prob(motion_data) > models[1].log_prob(motion_data)).item(),\n",
    "    \"\\nTotal run data:\",\n",
    "    len(motion_data),\n",
    ")"
   ]
  },
  {
   "cell_type": "markdown",
   "metadata": {},
   "source": [
    "### Model selection\n",
    "\n",
    "Here we test which dimension that clusters the best\n",
    "The result of the cell below is the indexes of the chosen dimensions for the model.\n",
    "**Note**: a bit of manual work might be nesseseary"
   ]
  },
  {
   "cell_type": "code",
   "execution_count": null,
   "metadata": {},
   "outputs": [],
   "source": [
    "for i in nonzero:\n",
    "    PATH_FIGURES = os.path.join(DIR, SET_NAME + \"trial\")\n",
    "    # PATH_FIGURES += f\"_{i}\"\n",
    "    if not os.path.exists(PATH_FIGURES):\n",
    "        os.makedirs(PATH_FIGURES + f\"_{i}\")\n",
    "base_dist = dist.Independent(dist.Normal(loc=torch.zeros(1), scale=torch.ones(1)), 1)\n",
    "MODEL_PARAMS = {\n",
    "    \"model\": sf.nf.get_flow,\n",
    "    \"get_transform\": sf.transforms.NDETransform,\n",
    "    \"base_dist\": base_dist,\n",
    "    \"get_net\": etorch.models.FFNN,\n",
    "    \"activation\": \"tanh\",\n",
    "    \"inverse_model\": True,\n",
    "    \"num_flows\": 2,\n",
    "    \"sensitivity\": \"autograd\",\n",
    "    \"neurons\": [16],\n",
    "    \"n_hidden_layers\": [4],\n",
    "}\n",
    "\n",
    "TRAINING_PARAMS = {\n",
    "    \"batch_size\": [5000],\n",
    "    \"compute_loss\": [sf.nf.get_monte_carlo_elbo_loss()],\n",
    "    \"optimizer\": [\"ADAM\"],\n",
    "    \"num_epochs\": [50],\n",
    "    \"learning_rate\": [0.01],\n",
    "    \"lr_scheduler\": [lr_scheduler],\n",
    "}\n",
    "cv_resultss = []\n",
    "for joint in tqdm(nonzero):\n",
    "    # create iterators\n",
    "    model_params_iter = etorch.create_subdictionary_iterator(MODEL_PARAMS, product=True)\n",
    "    training_params_iter = etorch.create_subdictionary_iterator(\n",
    "        TRAINING_PARAMS, product=True\n",
    "    )\n",
    "    data = torch.utils.data.TensorDataset(\n",
    "        wr_angle_tensor_norm[::10, joint : joint + 1],\n",
    "        priors[::10],\n",
    "        priors[::10],\n",
    "    )\n",
    "    cv_results = etorch.k_fold_cv_grid(\n",
    "        model_params=model_params_iter,\n",
    "        fit=etorch.fit_module,\n",
    "        training_params=training_params_iter,\n",
    "        data=data,\n",
    "        verbose=False,\n",
    "        partial=True,\n",
    "    )\n",
    "    etorch.plotting.plot_result(\n",
    "        path_figures=PATH_FIGURES + f\"_{joint}\",\n",
    "        **cv_results,\n",
    "    )"
   ]
  },
  {
   "cell_type": "code",
   "execution_count": null,
   "metadata": {},
   "outputs": [],
   "source": [
    "dfs = (\n",
    "    pd.read_csv(PATH_FIGURES + \"trial\" + f\"_{i}/history_plot_0_0.csv\")[49::50]\n",
    "    for i in nonzero\n",
    ")\n",
    "loss_df = pd.concat(dfs, axis=0)\n",
    "loss_df.index = range(47)"
   ]
  },
  {
   "cell_type": "code",
   "execution_count": null,
   "metadata": {},
   "outputs": [],
   "source": [
    "loss_df.sort_values(\"Validation loss\")"
   ]
  },
  {
   "cell_type": "code",
   "execution_count": null,
   "metadata": {},
   "outputs": [],
   "source": [
    "# best cluster per dim,\n",
    "[1, 0, 14, 33, 26, 1, 20, 32]"
   ]
  },
  {
   "cell_type": "code",
   "execution_count": null,
   "metadata": {},
   "outputs": [],
   "source": [
    "nonzero"
   ]
  }
 ],
 "metadata": {
  "interpreter": {
   "hash": "aee8b7b246df8f9039afb4144a1f6fd8d2ca17a180786b69acc140d282b71a49"
  },
  "kernelspec": {
   "display_name": "Python 3 (ipykernel)",
   "language": "python",
   "name": "python3"
  },
  "language_info": {
   "codemirror_mode": {
    "name": "ipython",
    "version": 3
   },
   "file_extension": ".py",
   "mimetype": "text/x-python",
   "name": "python",
   "nbconvert_exporter": "python",
   "pygments_lexer": "ipython3"
  }
 },
 "nbformat": 4,
 "nbformat_minor": 4
}
