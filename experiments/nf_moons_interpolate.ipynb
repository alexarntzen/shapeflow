{
 "cells": [
  {
   "cell_type": "code",
   "execution_count": null,
   "metadata": {},
   "outputs": [],
   "source": [
    "%load_ext autoreload\n",
    "%autoreload 2"
   ]
  },
  {
   "cell_type": "code",
   "execution_count": null,
   "metadata": {},
   "outputs": [],
   "source": [
    "sf.utils"
   ]
  },
  {
   "cell_type": "code",
   "execution_count": null,
   "metadata": {},
   "outputs": [],
   "source": [
    "import copy\n",
    "import os\n",
    "\n",
    "import numpy as np\n",
    "from flowtorch.distributions import Flow\n",
    "import torch\n",
    "import torch.distributions as dist\n",
    "import matplotlib.pyplot as plt\n",
    "from matplotlib_inline.backend_inline import set_matplotlib_formats\n",
    "import matplotlib\n",
    "import shapeflow as sf\n",
    "import sklearn.datasets as datasets\n",
    "import seaborn as sns\n",
    "import extratorch as etorch\n",
    "from signatureshape.animation.src.mayavi_animate import mayavi_animate\n",
    "\n",
    "matplotlib.rcParams.update({\"font.size\": 12})\n",
    "set_matplotlib_formats(\"pdf\", \"svg\")\n",
    "plt.style.use(\"tableau-colorblind10\")\n",
    "sns.set_style(\"white\")\n",
    "\n",
    "# make reproducible\n",
    "seed = torch.manual_seed(0)\n",
    "\n",
    "# better formats\n",
    "set_matplotlib_formats(\"pdf\", \"svg\")"
   ]
  },
  {
   "cell_type": "code",
   "execution_count": null,
   "metadata": {},
   "outputs": [],
   "source": [
    "x, y = datasets.make_moons(8 * 1024, noise=0.05)"
   ]
  },
  {
   "cell_type": "code",
   "execution_count": null,
   "metadata": {},
   "outputs": [],
   "source": [
    "plt.scatter(x[:, 0], x[:, 1])"
   ]
  },
  {
   "cell_type": "code",
   "execution_count": null,
   "metadata": {},
   "outputs": [],
   "source": [
    "# define data\n",
    "x_tensor = torch.as_tensor(x, dtype=torch.float32)\n",
    "data = torch.utils.data.TensorDataset(\n",
    "    x_tensor,\n",
    ")"
   ]
  },
  {
   "cell_type": "code",
   "execution_count": null,
   "metadata": {},
   "outputs": [],
   "source": []
  },
  {
   "cell_type": "code",
   "execution_count": null,
   "metadata": {},
   "outputs": [],
   "source": [
    "#######\n",
    "DIR = \"../figures/frames/\"\n",
    "SET_NAME = \"walk_residual\"\n",
    "PATH_FIGURES = os.path.join(DIR, SET_NAME)\n",
    "if not os.path.exists(PATH_FIGURES):\n",
    "    os.makedirs(PATH_FIGURES)\n",
    "########\n",
    "\n",
    "event_shape = data[0][0].shape\n",
    "base_dist = dist.MultivariateNormal(\n",
    "    torch.zeros(event_shape[0]), torch.eye(event_shape[0])\n",
    ")\n",
    "lr_scheduler = lambda optim: torch.optim.lr_scheduler.ReduceLROnPlateau(\n",
    "    optim, mode=\"min\", factor=0.5, patience=5, verbose=True\n",
    ")\n",
    "base_dist.batch_shape"
   ]
  },
  {
   "cell_type": "code",
   "execution_count": null,
   "metadata": {},
   "outputs": [],
   "source": [
    "event_shape[-1]"
   ]
  },
  {
   "cell_type": "code",
   "execution_count": null,
   "metadata": {},
   "outputs": [],
   "source": [
    "# define model\n",
    "\n",
    "stack = 4\n",
    "flows = sf.nf.get_flow(\n",
    "    base_dist=base_dist,\n",
    "    inverse_model=True,\n",
    "    compose=True,\n",
    "    get_transform=sf.transforms.NDETransform,\n",
    "    get_net=[etorch.FFNN] * stack,\n",
    "    activation=[\"tanh\"] * stack,\n",
    "    n_hidden_layers=[3] * stack,\n",
    "    neurons=[8] * stack,\n",
    "    trace_estimator=[\"autograd_trace\"] * stack,\n",
    ")\n",
    "# flows = sf.nf.get_flow(\n",
    "#     base_dist=base_dist,\n",
    "#     inverse_model=True,\n",
    "#     compose=False,\n",
    "#     get_transform=sf.transforms.NDETransform,\n",
    "#     get_net=etorch.FFNN,\n",
    "#     activation=\"tanh\",\n",
    "#     n_hidden_layers=3,\n",
    "#     neurons=16,\n",
    "# )"
   ]
  },
  {
   "cell_type": "code",
   "execution_count": null,
   "metadata": {},
   "outputs": [],
   "source": [
    "results = etorch.fit_module(\n",
    "    model=flows,\n",
    "    batch_size=256,\n",
    "    compute_loss=sf.nf.monte_carlo_dkl_loss,\n",
    "    optimizer=\"ADAM\",\n",
    "    num_epochs=100,\n",
    "    learning_rate=0.01,\n",
    "    lr_scheduler=lr_scheduler,\n",
    "    data=data,\n",
    "    verbose=True,\n",
    ")"
   ]
  },
  {
   "cell_type": "code",
   "execution_count": null,
   "metadata": {},
   "outputs": [],
   "source": [
    "model, hist = results"
   ]
  },
  {
   "cell_type": "markdown",
   "metadata": {},
   "source": [
    "Test that the wrapper workps"
   ]
  },
  {
   "cell_type": "code",
   "execution_count": null,
   "metadata": {},
   "outputs": [],
   "source": [
    "hist.plot()\n",
    "plt.show()"
   ]
  },
  {
   "cell_type": "code",
   "execution_count": null,
   "metadata": {},
   "outputs": [],
   "source": [
    "noise = base_dist.sample([100])\n",
    "print(\"Log vals=\")\n",
    "\n",
    "print(\"Noise :\", model.log_prob(noise[0:1]).mean().item())\n",
    "print(\"Trian data:\", model.log_prob(data[:][0]).mean().item())"
   ]
  },
  {
   "cell_type": "code",
   "execution_count": null,
   "metadata": {},
   "outputs": [],
   "source": [
    "xmin = 2\n",
    "xmax = -xmin\n",
    "ymax = xmax\n",
    "ymin = xmin\n",
    "pts = 7\n",
    "gridlines = pts * 1000\n",
    "xpts = np.linspace(xmin, xmax, pts)\n",
    "ypts = np.linspace(ymin, ymax, pts)\n",
    "xgrid = np.linspace(xmin, xmax, gridlines)\n",
    "ygrid = np.linspace(ymin, ymax, gridlines)\n",
    "xlines = np.stack([a.ravel() for a in np.meshgrid(xpts, ygrid)])\n",
    "ylines = np.stack([a.ravel() for a in np.meshgrid(xgrid, ypts)])\n",
    "grid = torch.as_tensor(np.concatenate([xlines, ylines], 1).T, dtype=torch.float32)"
   ]
  },
  {
   "cell_type": "code",
   "execution_count": null,
   "metadata": {},
   "outputs": [],
   "source": [
    "p1 = torch.tensor([[1.0, -0.5]])\n",
    "p2 = torch.tensor([[0.0, 1]])\n",
    "\n",
    "z1 = model.rnormalize(p1)\n",
    "z2 = model.rnormalize(p2)\n",
    "\n",
    "line = torch.unsqueeze(torch.linspace(0, 1, 200), 1)\n",
    "interp_line_z = z1 * line + z2 * (1 - line)\n",
    "interp_line_x = model.bijector.forward(interp_line_z).detach()\n",
    "interp_line_x_naive = p1 * line + p2 * (1 - line)"
   ]
  },
  {
   "cell_type": "code",
   "execution_count": null,
   "metadata": {},
   "outputs": [],
   "source": [
    "fig, ax = plt.subplots(1)\n",
    "t_points = model.sample([10000]).detach().numpy()\n",
    "ax.scatter(\n",
    "    t_points[:, 0],\n",
    "    t_points[:, 1],\n",
    "    marker=\".\",\n",
    "    alpha=0.3,\n",
    "    color=\"grey\",\n",
    ")\n",
    "ax.plot(\n",
    "    interp_line_x[:, 0],\n",
    "    interp_line_x[:, 1],\n",
    "    \"o\",\n",
    "    ls=\"-\",\n",
    "    markevery=10,\n",
    "    label=\"Latent space interp.\",\n",
    "    lw=2,\n",
    ")\n",
    "ax.plot(\n",
    "    interp_line_x_naive[:, 0],\n",
    "    interp_line_x_naive[:, 1],\n",
    "    \"-.\",\n",
    "    lw=2,\n",
    "    label=\"Feature space interp.\",\n",
    ")\n",
    "ax.set_xlim(-1.5, 2.5)\n",
    "# plt.ylim(-2,2)\n",
    "ax.set_aspect(\"equal\")\n",
    "# ax.scatter(p1[:,0],p1[:,1],marker=\"x\",label=\"p1\", color=\"green\")\n",
    "# ax.scatter(p2[:,0],p2[:,1], marker=\"x\",label=\"p1\",color=\"green\")\n",
    "# ax.scatter(*p2, label=\"p2\")\n",
    "ax.legend()\n",
    "plt.show()"
   ]
  },
  {
   "cell_type": "code",
   "execution_count": null,
   "metadata": {},
   "outputs": [],
   "source": []
  },
  {
   "cell_type": "code",
   "execution_count": null,
   "metadata": {},
   "outputs": [],
   "source": [
    "interp_line_z_naive = model.rnormalize(interp_line_x_naive).detach()\n",
    "t = np.linspace(0, 1, 200)\n",
    "plt.plot(t, model.log_prob(interp_line_x).detach(), \"-\")\n",
    "plt.plot(t, model.log_prob(interp_line_x_naive).detach(), \"-.\")\n",
    "plt.show()"
   ]
  },
  {
   "cell_type": "code",
   "execution_count": null,
   "metadata": {},
   "outputs": [],
   "source": [
    "with torch.no_grad():\n",
    "    plt.plot(interp_line_z[:, 0], interp_line_z[:, 1], \".\")\n",
    "plt.plot(interp_line_z_naive[:, 0], interp_line_z_naive[:, 1], \".\")\n",
    "plt.xlim(-1, 1)\n",
    "plt.ylim(-1, 1)\n",
    "plt.plot(0.5 * np.cos(7 * t), 0.5 * np.sin(7 * t), linewidth=1)\n",
    "plt.plot(0.2 * np.cos(7 * t), 0.2 * np.sin(7 * t), linewidth=1)\n",
    "plt.show()"
   ]
  },
  {
   "cell_type": "code",
   "execution_count": null,
   "metadata": {},
   "outputs": [],
   "source": [
    "p1 = torch.tensor([[2.0, 0.25]])\n",
    "p2 = torch.tensor([[0.0, 0.25]])\n",
    "z1 = model.rnormalize(p1)\n",
    "z2 = model.rnormalize(p2)\n",
    "line = torch.unsqueeze(torch.linspace(0, 1, 200), 1)\n",
    "interp_line_z = z1 * line + z2 * (1 - line)\n",
    "interp_line_x = model.bijector.forward(interp_line_z).detach()\n",
    "interp_line_x_naive = p1 * line + p2 * (1 - line)"
   ]
  },
  {
   "cell_type": "code",
   "execution_count": null,
   "metadata": {},
   "outputs": [],
   "source": [
    "fig, ax = plt.subplots(1)\n",
    "t_points = model.sample([10000]).detach().numpy()\n",
    "ax.scatter(\n",
    "    t_points[:, 0],\n",
    "    t_points[:, 1],\n",
    "    marker=\".\",\n",
    "    alpha=0.3,\n",
    "    color=\"grey\",\n",
    ")\n",
    "ax.plot(interp_line_x[::10, 0], interp_line_x[::10, 1], \"x\")\n",
    "ax.plot(interp_line_x_naive[:, 0], interp_line_x_naive[:, 1], \"-.\")\n",
    "plt.show()"
   ]
  },
  {
   "cell_type": "code",
   "execution_count": null,
   "metadata": {},
   "outputs": [],
   "source": [
    "t = np.linspace(0, 1, 200)\n",
    "plt.plot(t, (model.log_prob(interp_line_x).detach()), \"x\")\n",
    "plt.plot(t, (model.log_prob(interp_line_x_naive).detach()), \"-.\")\n",
    "plt.show()"
   ]
  },
  {
   "cell_type": "code",
   "execution_count": null,
   "metadata": {},
   "outputs": [],
   "source": [
    "with torch.no_grad():\n",
    "    plt.plot(interp_line_z[:, 0], interp_line_z[:, 1], \".\")\n",
    "plt.plot(interp_line_z_naive[:, 0], interp_line_z_naive[:, 1], \".\")\n",
    "plt.xlim(-2, 2)\n",
    "plt.ylim(-2, 2)\n",
    "plt.plot(np.cos(7 * t), np.sin(7 * t), linewidth=1)\n",
    "plt.plot(2 * np.cos(7 * t), 2 * np.sin(7 * t), linewidth=1)\n",
    "plt.show()"
   ]
  },
  {
   "cell_type": "code",
   "execution_count": null,
   "metadata": {},
   "outputs": [],
   "source": [
    "n = 100\n",
    "fig, ax = plt.subplots(1)\n",
    "x_axis = np.linspace(-2.5, 2.5, n)\n",
    "y_axis = np.linspace(-1.5, 1.5, n)\n",
    "X, Y = np.meshgrid(x_axis, y_axis)\n",
    "grid = np.stack((X.ravel(), Y.ravel()), axis=1)\n",
    "grid_tensor = torch.tensor(grid, dtype=torch.float32)\n",
    "grid_log_prob = model.log_prob(grid_tensor)\n",
    "Z_log_prob = grid_log_prob.reshape((n, n)).detach().numpy()\n",
    "# sns.kdeplot(x=t_points[:, 0],  y=t_points[:, 1], shade=True)\n",
    "# plt.contour(X,Y,Z_log_prob, cmap=\"viridis\", levels=4)\n",
    "ax.scatter(\n",
    "    t_points[:, 0],\n",
    "    t_points[:, 1],\n",
    "    marker=\".\",\n",
    "    alpha=0.2,\n",
    "    color=\"grey\",\n",
    ")\n",
    "ax.plot(interp_line_x[::10, 0], interp_line_x[::10, 1], \"--\", lw=3)\n",
    "ax.plot(interp_line_x_naive[::10, 0], interp_line_x_naive[::10, 1], \"-.\", lw=3)\n",
    "ax.set_xlim(-1.5, 2.5)\n",
    "# plt.ylim(-2,2)\n",
    "ax.set_aspect(\"equal\")"
   ]
  },
  {
   "cell_type": "code",
   "execution_count": null,
   "metadata": {},
   "outputs": [],
   "source": [
    "plt.plot(np.linspace(0, 1, 200), base_dist.log_prob(interp_line_z).detach())\n",
    "plt.plot(\n",
    "    np.linspace(0, 1, 200),\n",
    "    base_dist.log_prob(model.rnormalize(interp_line_x_naive).detach()),\n",
    ")\n",
    "plt.show()"
   ]
  },
  {
   "cell_type": "code",
   "execution_count": null,
   "metadata": {},
   "outputs": [],
   "source": [
    "n = 200\n",
    "X, Y = np.mgrid[-2:2:200j, -2:2:200j]\n",
    "grid = np.stack((X.ravel(), Y.ravel()), axis=1)\n",
    "Z_0 = (\n",
    "    model.log_prob(torch.tensor(grid, dtype=torch.float32))\n",
    "    .detach()\n",
    "    .numpy()\n",
    "    .reshape((n, n))\n",
    ")\n",
    "# Z_1 = (\n",
    "#     models[1]\n",
    "#     .log_prob(torch.tensor(grid, dtype=torch.float32))\n",
    "#     .detach()\n",
    "#     .numpy()\n",
    "#     .reshape((n, n))\n",
    "# )\n",
    "# Z = np.where(Z_0 > Z_1, 1, 0)\n",
    "# plt.contourf(X, Y, Z, levels=2)\n",
    "# plt.show()\n",
    "# plt.scatter(t_points[:, 0], t_points[:, 1],marker=\".\",alpha=0.5, )\n",
    "# # plt.show()\n",
    "# points =models[1].base_dist.sample([1000])# p1*line - p1*(1-line)\n",
    "# t_points = models[1].bijector.forward(points).detach().numpy()\n",
    "# plt.scatter(t_points[:, 0], t_points[:, 1],marker=\".\",alpha=0.5,)\n",
    "# plt.show()"
   ]
  },
  {
   "cell_type": "code",
   "execution_count": null,
   "metadata": {},
   "outputs": [],
   "source": [
    "plt.scatter(x[:, 0], x[:, 1])\n",
    "plt.show()"
   ]
  },
  {
   "cell_type": "code",
   "execution_count": null,
   "metadata": {},
   "outputs": [],
   "source": []
  },
  {
   "cell_type": "code",
   "execution_count": null,
   "metadata": {},
   "outputs": [],
   "source": []
  }
 ],
 "metadata": {
  "interpreter": {
   "hash": "aee8b7b246df8f9039afb4144a1f6fd8d2ca17a180786b69acc140d282b71a49"
  },
  "kernelspec": {
   "display_name": "Python 3 (ipykernel)",
   "language": "python",
   "name": "python3"
  },
  "language_info": {
   "codemirror_mode": {
    "name": "ipython",
    "version": 3
   },
   "file_extension": ".py",
   "mimetype": "text/x-python",
   "name": "python",
   "nbconvert_exporter": "python",
   "pygments_lexer": "ipython3"
  }
 },
 "nbformat": 4,
 "nbformat_minor": 4
}
