{
 "cells": [
  {
   "cell_type": "code",
   "execution_count": null,
   "metadata": {},
   "outputs": [],
   "source": [
    "%load_ext autoreload\n",
    "%autoreload 2"
   ]
  },
  {
   "cell_type": "code",
   "execution_count": null,
   "metadata": {},
   "outputs": [],
   "source": [
    "import copy\n",
    "import os\n",
    "import itertools\n",
    "import numpy as np\n",
    "import torch\n",
    "import torch.distributions as dist\n",
    "import matplotlib.pyplot as plt\n",
    "import matplotlib\n",
    "from matplotlib_inline.backend_inline import set_matplotlib_formats\n",
    "import shapeflow as sf\n",
    "import sklearn.datasets as datasets\n",
    "import seaborn as sns\n",
    "import extratorch as etorch"
   ]
  },
  {
   "cell_type": "code",
   "execution_count": null,
   "metadata": {},
   "outputs": [],
   "source": [
    "# make reproducible\n",
    "seed = torch.manual_seed(0)\n",
    "\n",
    "# better plotting\n",
    "set_matplotlib_formats(\"pdf\", \"svg\")\n",
    "matplotlib.rcParams.update({\"font.size\": 12})\n",
    "set_matplotlib_formats(\"pdf\", \"svg\")\n",
    "plt.style.use(\"tableau-colorblind10\")\n",
    "sns.set_style(\"white\")"
   ]
  },
  {
   "cell_type": "code",
   "execution_count": null,
   "metadata": {},
   "outputs": [],
   "source": [
    "num_total = 2048\n",
    "num_supervised = 0\n",
    "\n",
    "x, y = datasets.make_moons(num_total, noise=0.05)"
   ]
  },
  {
   "cell_type": "code",
   "execution_count": null,
   "metadata": {},
   "outputs": [],
   "source": [
    "# standardize\n",
    "x = (x - x.mean()) / x.std()\n",
    "q = np.stack((y, np.abs(y - 1)), axis=-1)\n",
    "\n",
    "plt.scatter(x[:, 0], x[:, 1], c=y)"
   ]
  },
  {
   "cell_type": "code",
   "execution_count": null,
   "metadata": {},
   "outputs": [],
   "source": [
    "# define data\n",
    "x_tensor = torch.as_tensor(x, dtype=torch.float32)\n",
    "q_tensor = torch.as_tensor(q, dtype=torch.float32)\n",
    "priors = torch.zeros_like(q_tensor)\n",
    "\n",
    "eps = torch.rand(len(priors)) * 0.1\n",
    "priors[:, 1] = 0.5 + eps\n",
    "priors[:, 0] = 0.5 - eps\n",
    "priors[:num_supervised] = q_tensor[:num_supervised]\n",
    "init_posterior = priors.clone().detach()\n",
    "\n",
    "# data current\n",
    "# use notation for each row since priors are used for each row\n",
    "\n",
    "# data =  x, p(c_k|x), p(c_k)\n",
    "data = torch.utils.data.TensorDataset(\n",
    "    x_tensor,\n",
    "    init_posterior,\n",
    "    priors,\n",
    ")\n",
    "# first guess p(c_k|x), p(c_k)"
   ]
  },
  {
   "cell_type": "code",
   "execution_count": null,
   "metadata": {},
   "outputs": [],
   "source": [
    "event_shape = data[0][0].shape\n",
    "base_dist = dist.MultivariateNormal(\n",
    "    torch.zeros(event_shape[0]), torch.eye(event_shape[0])\n",
    ")\n",
    "lr_scheduler = lambda optim: torch.optim.lr_scheduler.ReduceLROnPlateau(\n",
    "    optim, mode=\"min\", factor=0.5, patience=10, verbose=False\n",
    ")\n",
    "base_dist.batch_shape"
   ]
  },
  {
   "cell_type": "code",
   "execution_count": null,
   "metadata": {},
   "outputs": [],
   "source": [
    "#  ######\n",
    "DIR = \"../figures/moons_cluster/\"\n",
    "SET_NAME = f\"cnf_2\"\n",
    "PATH_FIGURES = os.path.join(DIR, SET_NAME)\n",
    "trials = 5\n",
    "########\n",
    "\n",
    "MODEL_PARAMS = {\n",
    "    \"model\": [sf.nf.get_flow],\n",
    "    \"get_transform\": [sf.transforms.NDETransform],\n",
    "    \"compose\": [False],\n",
    "    \"activation\": [\"tanh\"],\n",
    "    \"get_net\": [etorch.models.FFNN],\n",
    "    \"n_hidden_layers\": [3],\n",
    "    \"neurons\": [8],\n",
    "    \"num_flows\": [priors.shape[-1]],\n",
    "    \"base_dist\": [base_dist],\n",
    "    \"inverse_model\": [True],\n",
    "    \"trace_estimator\": [\"autograd_trace\"],\n",
    "}\n",
    "TRAINING_PARAMS = {\n",
    "    \"optimizer\": [\"ADAM\"],\n",
    "    \"batch_size\": [256],\n",
    "    \"num_epochs\": [200],\n",
    "    \"learning_rate\": [0.01],\n",
    "    \"verbose\": [True],\n",
    "    \"lr_scheduler\": [lr_scheduler],\n",
    "    \"compute_loss\": [sf.nf.get_monte_carlo_elbo_loss()],\n",
    "}"
   ]
  },
  {
   "cell_type": "code",
   "execution_count": null,
   "metadata": {},
   "outputs": [],
   "source": [
    "model_params_iter = etorch.create_subdictionary_iterator(MODEL_PARAMS, product=True)\n",
    "training_params_iter = etorch.create_subdictionary_iterator(\n",
    "    TRAINING_PARAMS, product=True\n",
    ")\n",
    "\n",
    "cv_results = etorch.k_fold_cv_grid(\n",
    "    fit=etorch.fit_module,\n",
    "    model_params=model_params_iter,\n",
    "    training_params=training_params_iter,\n",
    "    data=data,\n",
    "    verbose=True,\n",
    "    copy_data=True,\n",
    "    trials=trials,\n",
    ")"
   ]
  },
  {
   "cell_type": "code",
   "execution_count": null,
   "metadata": {},
   "outputs": [],
   "source": [
    "function_kwargs = dict(x_lim=(-3, 3), y_lim=(-2, 2), num_samples=500, grid_shape=500)\n",
    "etorch.plotting.plot_result(\n",
    "    path_figures=PATH_FIGURES,\n",
    "    plot_function=sf.plotting.plot_2d_cluster,\n",
    "    **cv_results,\n",
    "    function_kwargs=function_kwargs\n",
    ")"
   ]
  },
  {
   "cell_type": "markdown",
   "metadata": {},
   "source": [
    "Test that the wrapper works"
   ]
  },
  {
   "cell_type": "code",
   "execution_count": null,
   "metadata": {},
   "outputs": [],
   "source": [
    "hist = cv_results[\"histories\"][0]\n",
    "hist.plot()\n",
    "plt.show()"
   ]
  },
  {
   "cell_type": "code",
   "execution_count": null,
   "metadata": {},
   "outputs": [],
   "source": [
    "# not valid\n",
    "noise = base_dist.sample([100])\n",
    "print(\"Cross loss\")\n",
    "\n",
    "for models in cv_results[\"models\"]:\n",
    "    log_x_cond_c = torch.zeros_like(q_tensor)\n",
    "    for k, model_k in enumerate(models):\n",
    "        log_x_cond_c[..., k] = models[k].log_prob(x_tensor)\n",
    "\n",
    "    print((q_tensor * log_x_cond_c).mean().item())"
   ]
  },
  {
   "cell_type": "code",
   "execution_count": null,
   "metadata": {},
   "outputs": [],
   "source": [
    "print(\"Num parameters:\")\n",
    "total = 0\n",
    "models = cv_results[\"models\"][0]\n",
    "total += sum([len(params) for params in models[0].parameters()])\n",
    "print(total)"
   ]
  },
  {
   "cell_type": "code",
   "execution_count": null,
   "metadata": {},
   "outputs": [],
   "source": [
    "num_points = 2048\n",
    "\n",
    "# plt.scatter(x[:500, 0], x[:500, 1], alpha=y[500], marker=\"x\")\n",
    "plt.scatter(x[:num_points, 0], x[:num_points, 1], marker=\".\", color=\"black\")\n",
    "plt.xlim(function_kwargs[\"x_lim\"])\n",
    "plt.ylim(function_kwargs[\"y_lim\"])\n",
    "plt.gca().set_aspect(\"equal\", \"box\")\n",
    "plt.axis(\"off\")\n",
    "plt.gca().set_xticklabels([])\n",
    "plt.gca().set_yticklabels([])\n",
    "plt.savefig(\n",
    "    os.path.join(\n",
    "        PATH_FIGURES,\n",
    "        \"points_total.pdf\",\n",
    "    ),\n",
    "    bbox_inches=\"tight\",\n",
    "    pad_inches=0,\n",
    ")\n",
    "plt.show()"
   ]
  },
  {
   "cell_type": "code",
   "execution_count": null,
   "metadata": {},
   "outputs": [],
   "source": [
    "num_points = num_supervised\n",
    "\n",
    "# plt.scatter(x[:500, 0], x[:500, 1], alpha=y[500], marker=\"x\")\n",
    "plt.scatter(\n",
    "    x[:num_points, 0][y[:num_points] == 1],\n",
    "    x[:num_points, 1][y[:num_points] == 1],\n",
    "    marker=\".\",\n",
    ")\n",
    "plt.scatter(\n",
    "    x[:num_points, 0][y[:num_points] == 0],\n",
    "    x[:num_points, 1][y[:num_points] == 0],\n",
    "    marker=\"x\",\n",
    ")\n",
    "plt.xlim(function_kwargs[\"x_lim\"])\n",
    "plt.ylim(function_kwargs[\"y_lim\"])\n",
    "plt.gca().set_aspect(\"equal\", \"box\")\n",
    "plt.axis(\"off\")\n",
    "plt.gca().set_xticklabels([])\n",
    "plt.gca().set_yticklabels([])\n",
    "plt.savefig(\n",
    "    os.path.join(\n",
    "        PATH_FIGURES,\n",
    "        \"points_supervised.pdf\",\n",
    "    ),\n",
    "    bbox_inches=\"tight\",\n",
    "    pad_inches=0,\n",
    ")\n",
    "plt.show()"
   ]
  },
  {
   "cell_type": "code",
   "execution_count": null,
   "metadata": {},
   "outputs": [],
   "source": []
  }
 ],
 "metadata": {
  "interpreter": {
   "hash": "aee8b7b246df8f9039afb4144a1f6fd8d2ca17a180786b69acc140d282b71a49"
  },
  "kernelspec": {
   "display_name": "Python 3 (ipykernel)",
   "language": "python",
   "name": "python3"
  },
  "language_info": {
   "codemirror_mode": {
    "name": "ipython",
    "version": 3
   },
   "file_extension": ".py",
   "mimetype": "text/x-python",
   "name": "python",
   "nbconvert_exporter": "python",
   "pygments_lexer": "ipython3"
  }
 },
 "nbformat": 4,
 "nbformat_minor": 4
}
