{
 "cells": [
  {
   "cell_type": "code",
   "execution_count": null,
   "metadata": {},
   "outputs": [],
   "source": [
    "%load_ext autoreload\n",
    "%autoreload 2"
   ]
  },
  {
   "cell_type": "markdown",
   "metadata": {},
   "source": [
    "### Test wrapper on moons\n",
    "\n",
    "Test that we can use `flowtorch` with transformations from `nflows`.\n",
    "\n",
    "Example is modifies  from [nflows](https://github.com/bayesiains/nflows)"
   ]
  },
  {
   "cell_type": "code",
   "execution_count": null,
   "metadata": {},
   "outputs": [],
   "source": [
    "import numpy as np\n",
    "import copy\n",
    "import os\n",
    "from tqdm import tqdm\n",
    "from itertools import chain\n",
    "import matplotlib.pyplot as plt\n",
    "from matplotlib_inline.backend_inline import set_matplotlib_formats\n",
    "import seaborn as sns\n",
    "\n",
    "import torch\n",
    "import torch.distributions as dist\n",
    "\n",
    "import flowtorch as ft\n",
    "import nflows\n",
    "import normflow as nf\n",
    "\n",
    "from signatureshape.animation import fetch_animation_id_set, fetch_animations\n",
    "from signatureshape.animation.src.mayavi_animate import mayavi_animate\n",
    "\n",
    "from deepthermal.validation import (\n",
    "    create_subdictionary_iterator,\n",
    "    k_fold_cv_grid,\n",
    "    add_dictionary_iterators,\n",
    ")\n",
    "from deepthermal.FFNN_model import fit_FFNN\n",
    "from deepthermal.plotting import plot_result\n",
    "\n",
    "import shapeflow as sf\n",
    "\n",
    "# make reproducible\n",
    "seed = torch.manual_seed(0)\n",
    "\n",
    "# better formats\n",
    "set_matplotlib_formats(\"pdf\", \"svg\")"
   ]
  },
  {
   "cell_type": "code",
   "execution_count": null,
   "metadata": {},
   "outputs": [],
   "source": [
    "# fetch data as so3\n",
    "# we assume all have the same skeleton\n",
    "print(\"Loading mocap data:\")\n",
    "# walk  data\n",
    "walk_subjects = [\"07\", \"08\", \"35\", \"16\"]\n",
    "walk_animations = []\n",
    "for s in walk_subjects:\n",
    "    for t in fetch_animations(100, subject_file_name=(s + \".asf\")):\n",
    "        if t[2][:4] == \"walk\":\n",
    "            walk_animations.append(t[1])\n",
    "\n",
    "walk_animations_train_frame = sum(\n",
    "    len(anim.get_frames()) for anim in walk_animations[:18]\n",
    ")\n",
    "\n",
    "# run data\n",
    "run_subjects = [\"09\", \"16\", \"35\"]\n",
    "run_animations = []\n",
    "run_skeletons = []\n",
    "for s in run_subjects:\n",
    "\n",
    "    for t in fetch_animations(100, subject_file_name=(s + \".asf\")):\n",
    "        if t[2][:3] == \"run\":\n",
    "            run_skeletons.append(t[0])\n",
    "            run_animations.append(t[1])\n",
    "\n",
    "print(\"Convert to array:\")\n",
    "walk_angle_array = sf.utils.animation_to_eulers(\n",
    "    walk_animations, reduce_shape=False, remove_root=True, deg2rad=True\n",
    ")\n",
    "run_angle_array = sf.utils.animation_to_eulers(\n",
    "    run_animations,\n",
    "    reduce_shape=False,\n",
    "    remove_root=True,\n",
    "    deg2rad=True,\n",
    ")"
   ]
  },
  {
   "cell_type": "code",
   "execution_count": null,
   "metadata": {},
   "outputs": [],
   "source": [
    "# anim.from_numpy_array( walk_angle_array[0].T)\n",
    "# mayavi_animate(skel, anim, offset=anim._offset, continuous=True, fixed_cam = False, frame_limit = -1, save_path = None)"
   ]
  },
  {
   "cell_type": "code",
   "execution_count": null,
   "metadata": {},
   "outputs": [],
   "source": [
    "# skel2, anim, desc = fetch_animations(1, subject_file_name=run_subjects[0]+\".asf\")\n",
    "# skel.bones.keys() == skel2.bones.keys()\n",
    "# for bone_name, bone_obj in skel.bones.items():\n",
    "#     pass\n",
    "#     print(bone_name, \":\")\n",
    "#     print([dof for dof in bone_obj.dof], \"\\n\")"
   ]
  },
  {
   "cell_type": "code",
   "execution_count": null,
   "metadata": {},
   "outputs": [],
   "source": [
    "# # save data since it takes so long to get\n",
    "\n",
    "np.save(\"walk_angle_array_full.npy\", walk_angle_array)\n",
    "walk_angle_tensor = torch.tensor(\n",
    "    np.load(\"walk_angle_array_full.npy\", allow_pickle=False)\n",
    ").float()\n",
    "\n",
    "np.save(\"run_angle_array_full.npy\", run_angle_array)\n",
    "run_angle_tensor = torch.tensor(\n",
    "    np.load(\"run_angle_array_full.npy\", allow_pickle=False)\n",
    ").float()"
   ]
  },
  {
   "cell_type": "code",
   "execution_count": null,
   "metadata": {},
   "outputs": [],
   "source": [
    "pre_shape_walk = walk_angle_tensor.shape\n",
    "pre_shape_run = run_angle_tensor.shape\n",
    "\n",
    "num_frames = min(pre_shape_walk[1], pre_shape_run[1])\n",
    "\n",
    "post_shape_walk = pre_shape_walk[0], num_frames * pre_shape_walk[2]\n",
    "post_shape_run = pre_shape_run[0], num_frames * pre_shape_run[2]\n",
    "\n",
    "walk_angles = walk_angle_tensor[:, :num_frames]  # .reshape(post_shape_walk)\n",
    "run_angles = run_angle_tensor[:, :num_frames]  # .reshape(post_shape_run)\n",
    "walk_samples_shapes_pre = walk_angles.shape\n",
    "run_angles_shapes_pre = run_angles.shape"
   ]
  },
  {
   "cell_type": "code",
   "execution_count": null,
   "metadata": {},
   "outputs": [],
   "source": [
    "# reshape\n",
    "flatten = False\n",
    "add_channel = True\n",
    "\n",
    "orig_shape_walk = walk_angle_tensor.shape\n",
    "orig_shape_run = run_angle_tensor.shape\n",
    "if add_channel:\n",
    "    walk_angles_reshaped = torch.unsqueeze(walk_angles, 1)\n",
    "    run_angles_reshaped = torch.unsqueeze(run_angles, 1)\n",
    "elif flatten:\n",
    "    walk_angles_reshaped = torch.swapaxes(walk_angle_tensor, 1, 2).reshape(\n",
    "        orig_shape_walk[0], orig_shape_walk[1] * orig_shape_walk[2]\n",
    "    )\n",
    "    run_angles_reshaped = torch.swapaxes(run_angle_tensor, 1, 2).reshape(\n",
    "        orig_shape_run[0], orig_shape_run[1] * orig_shape_run[2]\n",
    "    )\n",
    "walk_angles_reshaped.shape, run_angles_reshaped.shape"
   ]
  },
  {
   "cell_type": "code",
   "execution_count": null,
   "metadata": {},
   "outputs": [],
   "source": [
    "# walk_angles_rev  = torch.swapaxes(walk_angles, 2, 1)\n",
    "data = torch.utils.data.TensorDataset(walk_angles_reshaped)\n",
    "data_run = torch.utils.data.TensorDataset(run_angles_reshaped)"
   ]
  },
  {
   "cell_type": "code",
   "execution_count": null,
   "metadata": {},
   "outputs": [],
   "source": [
    "#######\n",
    "DIR = \"../figures/full_shape/\"\n",
    "SET_NAME = \"walk_residual\"\n",
    "PATH_FIGURES = os.path.join(DIR, SET_NAME)\n",
    "if not os.path.exists(PATH_FIGURES):\n",
    "    os.makedirs(PATH_FIGURES)\n",
    "########\n",
    "FOLDS = 5\n",
    "\n",
    "event_shape = data[0][0].shape\n",
    "base_dist = dist.Independent(\n",
    "    dist.Normal(loc=torch.zeros(event_shape), scale=torch.ones(event_shape)), 3\n",
    ")\n",
    "lr_scheduler = lambda optim: torch.optim.lr_scheduler.ReduceLROnPlateau(\n",
    "    optim, mode=\"min\", factor=0.5, patience=40, verbose=True\n",
    ")\n",
    "# def get_flow(ji)\n",
    "MODEL_PARAMS = {\n",
    "    \"model\": [sf.utils.get_flow],\n",
    "    \"get_transform\": [sf.normalizing_flows.get_residual_transform],\n",
    "    \"base_dist\": [base_dist],\n",
    "    \"inverse_model\": [False],\n",
    "    \"compose\": [True],\n",
    "}\n",
    "num_layers = 5\n",
    "MODEL_PARAMS_EXPERIMENT = {\n",
    "    # \"num_blocks_per_layer\": [2],\n",
    "    \"CNN\": [[True] * num_layers] * 2,\n",
    "    \"hidden_features\": [[7] * num_layers] * 2,\n",
    "    \"hidden_layers\": [[2] * num_layers] * 2,\n",
    "    \"n_exact_terms\": [[3] * num_layers],\n",
    "    \"n_samples\": [[10] * num_layers],\n",
    "}\n",
    "\n",
    "TRAINING_PARAMS = {\n",
    "    \"batch_size\": [10],\n",
    "    \"regularization_param\": [1e-5],\n",
    "    \"compute_loss\": [sf.monte_carlo_dkl_loss],\n",
    "    \"post_batch\": [sf.get_post_step_lipchitz(5)],\n",
    "}\n",
    "# extend the previous dict with the zip of this\n",
    "TRAINING_PARAMS_EXPERIMENT = {\n",
    "    \"verbose_interval\": [10],\n",
    "    \"optimizer\": [\"ADAM\"],\n",
    "    \"num_epochs\": [1000],\n",
    "    \"learning_rate\": [0.1],\n",
    "    \"lr_scheduler\": [lr_scheduler],\n",
    "}"
   ]
  },
  {
   "cell_type": "code",
   "execution_count": null,
   "metadata": {},
   "outputs": [],
   "source": [
    "base_dist.event_shape\n",
    "# event_shape\n",
    "# event_shape.ev\n",
    "# event_shape"
   ]
  },
  {
   "cell_type": "code",
   "execution_count": null,
   "metadata": {},
   "outputs": [],
   "source": [
    "# create iterators\n",
    "model_params_iter_1 = create_subdictionary_iterator(MODEL_PARAMS)\n",
    "# model_params_iter = chain.from_iterable((model_params_iter_1, model_params_iter_2))\n",
    "\n",
    "model_exp_iter = create_subdictionary_iterator(MODEL_PARAMS_EXPERIMENT, product=False)\n",
    "exp_model_params_iter = add_dictionary_iterators(model_exp_iter, model_params_iter_1)\n",
    "\n",
    "training_params_iter = create_subdictionary_iterator(TRAINING_PARAMS)\n",
    "training_exp_iter = create_subdictionary_iterator(\n",
    "    TRAINING_PARAMS_EXPERIMENT, product=True\n",
    ")\n",
    "exp_training_params_iter = add_dictionary_iterators(\n",
    "    training_exp_iter, training_params_iter\n",
    ")"
   ]
  },
  {
   "cell_type": "code",
   "execution_count": null,
   "metadata": {},
   "outputs": [],
   "source": [
    "cv_results = k_fold_cv_grid(\n",
    "    model_params=exp_model_params_iter,\n",
    "    fit=fit_FFNN,\n",
    "    training_params=exp_training_params_iter,\n",
    "    data=data,\n",
    "    folds=5,\n",
    "    verbose=True,\n",
    "    trials=1,\n",
    "    partial=True,\n",
    "    shuffle_folds=False,\n",
    ")"
   ]
  },
  {
   "cell_type": "code",
   "execution_count": null,
   "metadata": {},
   "outputs": [],
   "source": [
    "plot_result(\n",
    "    path_figures=PATH_FIGURES,\n",
    "    **cv_results,\n",
    "    # plot_function=plot_model_1d,\n",
    "    # function_kwargs=plot_kwargs,\n",
    ")"
   ]
  },
  {
   "cell_type": "code",
   "execution_count": null,
   "metadata": {},
   "outputs": [],
   "source": [
    "# flow = cv_results[\"models\"][0][0]\n",
    "# sample = flow.sample([1]).data\n",
    "# torch.save(flow, \"flow_full_motion_2.pt\")"
   ]
  },
  {
   "cell_type": "code",
   "execution_count": null,
   "metadata": {},
   "outputs": [],
   "source": [
    "flow = torch.load(\"flow_full_motion_2.pt\")\n",
    "flow.eval()"
   ]
  },
  {
   "cell_type": "code",
   "execution_count": null,
   "metadata": {},
   "outputs": [],
   "source": [
    "noise = base_dist.sample([100])\n",
    "print(\"Log plots:\")\n",
    "\n",
    "print(\"Noise :\", flow.log_prob(noise).mean().item())\n",
    "print(\"Run data:\", flow.log_prob(data_run[:][0]).mean().item())\n",
    "print(\"Train data:\", flow.log_prob(data[0:20][0]).mean().item())\n",
    "print(\"Validation data:\", flow.log_prob(data[55:64][0]).mean().item())"
   ]
  },
  {
   "cell_type": "code",
   "execution_count": null,
   "metadata": {},
   "outputs": [],
   "source": [
    "\n",
    "z_close = flow.bijector.inverse(data[0:1][0])\n",
    "x_sample = flow.bijector.forward(z_close + noise[0]*0.1)\n",
    "# print(\"Validation data:\", flow.log_prob(noise[:10]).mean().item())"
   ]
  },
  {
   "cell_type": "code",
   "execution_count": null,
   "metadata": {},
   "outputs": [],
   "source": [
    "i, j = 0, 8\n",
    "data_1 = data[i : i + 1][0]\n",
    "data_2 = data[j : j + 1][0]\n",
    "w_list = torch.cat((torch.linspace(1, 0, 10), torch.linspace(0, 1, 10)))\n",
    "x_interpolated = torch.cat(\n",
    "    [\n",
    "        flow.bijector(\n",
    "            flow.bijector.inverse(data_1) * w + (1 - w) * flow.bijector.inverse(data_2)\n",
    "        )\n",
    "        for w in w_list\n",
    "    ],\n",
    "    dim=2,\n",
    ")\n",
    "x_interpolated_test = torch.cat([data_1 * w + data_2 * (1 - w) for w in w_list], dim=2)"
   ]
  },
  {
   "cell_type": "code",
   "execution_count": null,
   "metadata": {},
   "outputs": [],
   "source": [
    "# flow.log_prob(x_interpolated)\n",
    "# x_interpolated.shape\n",
    "# flow.log_prob(data[0:1][0])"
   ]
  },
  {
   "cell_type": "code",
   "execution_count": null,
   "metadata": {},
   "outputs": [],
   "source": [
    "skel = copy.deepcopy(run_skeletons[0])\n",
    "test_anim = copy.deepcopy(walk_animations[0])"
   ]
  },
  {
   "cell_type": "code",
   "execution_count": null,
   "metadata": {},
   "outputs": [],
   "source": [
    "# create anim\n",
    "test_anim.from_numpy_array(sf.utils.data_to_motion_array(x_interpolated_test))"
   ]
  },
  {
   "cell_type": "markdown",
   "metadata": {},
   "source": []
  },
  {
   "cell_type": "code",
   "execution_count": null,
   "metadata": {},
   "outputs": [],
   "source": [
    "anim = mayavi_animate(\n",
    "    skel,\n",
    "    test_anim,\n",
    "    offset=[0, 0, 0],\n",
    "    continuous=False,\n",
    "    fixed_cam=False,\n",
    "    frame_limit=-1,\n",
    "    save_path=\"test.svg\",\n",
    ")"
   ]
  },
  {
   "cell_type": "code",
   "execution_count": null,
   "metadata": {},
   "outputs": [],
   "source": [
    "# plt.hist(np.abs((walk_sample_reformated[7])))\n",
    "test_sample = copy.deepcopy(walk_animations[0])\n",
    "test_sample.from_numpy_array(sf.utils.data_to_motion_array(x_sample))\n",
    "\n",
    "anim = mayavi_animate(\n",
    "    skel,\n",
    "    test_sample,\n",
    "    offset=[0, 0, 0],\n",
    "    continuous=True,\n",
    "    fixed_cam=False,\n",
    "    frame_limit=-1,\n",
    "    save_path=\"test.svg\",\n",
    ")"
   ]
  },
  {
   "cell_type": "code",
   "execution_count": null,
   "metadata": {},
   "outputs": [],
   "source": []
  },
  {
   "cell_type": "code",
   "execution_count": null,
   "metadata": {},
   "outputs": [],
   "source": [
    "np.linspace(0, 1, 3).reshape((3, 1))  # *np.array([0,1,2])"
   ]
  },
  {
   "cell_type": "code",
   "execution_count": null,
   "metadata": {},
   "outputs": [],
   "source": []
  }
 ],
 "metadata": {
  "interpreter": {
   "hash": "aee8b7b246df8f9039afb4144a1f6fd8d2ca17a180786b69acc140d282b71a49"
  },
  "kernelspec": {
   "display_name": "Python 3 (ipykernel)",
   "language": "python",
   "name": "python3"
  },
  "language_info": {
   "codemirror_mode": {
    "name": "ipython",
    "version": 3
   },
   "file_extension": ".py",
   "mimetype": "text/x-python",
   "name": "python",
   "nbconvert_exporter": "python",
   "pygments_lexer": "ipython3"
  }
 },
 "nbformat": 4,
 "nbformat_minor": 4
}
