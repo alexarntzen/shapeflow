{
 "cells": [
  {
   "cell_type": "code",
   "execution_count": null,
   "metadata": {},
   "outputs": [],
   "source": [
    "%load_ext autoreload\n",
    "%autoreload 2"
   ]
  },
  {
   "cell_type": "code",
   "execution_count": null,
   "metadata": {},
   "outputs": [],
   "source": [
    "import copy\n",
    "import os\n",
    "\n",
    "import numpy as np\n",
    "from flowtorch.distributions import Flow\n",
    "import torch\n",
    "import torch.distributions as dist\n",
    "import matplotlib.pyplot as plt\n",
    "from matplotlib_inline.backend_inline import set_matplotlib_formats\n",
    "import shapeflow as sf\n",
    "import sklearn.datasets as datasets\n",
    "import seaborn as sns\n",
    "\n",
    "from signatureshape.animation.src.mayavi_animate import mayavi_animate\n",
    "\n",
    "from deepthermal.FFNN_model import fit_FFNN, FFNN\n",
    "from deepthermal.plotting import plot_result\n",
    "import neural_reparam.models as nrmodels\n",
    "\n",
    "# make reproducible\n",
    "seed = torch.manual_seed(0)\n",
    "\n",
    "# better formats\n",
    "set_matplotlib_formats(\"pdf\", \"svg\")"
   ]
  },
  {
   "cell_type": "code",
   "execution_count": null,
   "metadata": {},
   "outputs": [],
   "source": [
    "x, y = datasets.make_moons(1024 * 8, noise=0.06)"
   ]
  },
  {
   "cell_type": "code",
   "execution_count": null,
   "metadata": {},
   "outputs": [],
   "source": [
    "plt.scatter(x[:, 0], x[:, 1]);"
   ]
  },
  {
   "cell_type": "code",
   "execution_count": null,
   "metadata": {},
   "outputs": [],
   "source": [
    "# define data\n",
    "data = torch.utils.data.TensorDataset(torch.as_tensor(x, dtype=torch.float32))"
   ]
  },
  {
   "cell_type": "code",
   "execution_count": null,
   "metadata": {},
   "outputs": [],
   "source": [
    "#######\n",
    "DIR = \"../figures/frames/\"\n",
    "SET_NAME = \"walk_residual\"\n",
    "PATH_FIGURES = os.path.join(DIR, SET_NAME)\n",
    "if not os.path.exists(PATH_FIGURES):\n",
    "    os.makedirs(PATH_FIGURES)\n",
    "########\n",
    "FOLDS = 5\n",
    "\n",
    "event_shape = data[0][0].shape\n",
    "base_dist = dist.MultivariateNormal(torch.zeros(event_shape[0]), torch.eye(event_shape[0]))\n",
    "lr_scheduler = lambda optim: torch.optim.lr_scheduler.ReduceLROnPlateau(\n",
    "    optim, mode=\"min\", factor=0.5, patience=10, verbose=True\n",
    ")\n",
    "base_dist.batch_shape"
   ]
  },
  {
   "cell_type": "code",
   "execution_count": null,
   "metadata": {},
   "outputs": [],
   "source": [
    "event_shape[-1]"
   ]
  },
  {
   "cell_type": "code",
   "execution_count": null,
   "metadata": {},
   "outputs": [],
   "source": [
    "# define model\n",
    "\n",
    "stack = 4\n",
    "bijector = sf.nf.get_bijector(\n",
    "    compose=True,\n",
    "    get_transform=sf.transforms.NDETransform,\n",
    "    get_net=[FFNN]*stack,\n",
    "    activation=[\"tanh\"]*stack,\n",
    "    # trace_est = \"auto\",\n",
    "    n_hidden_layers=[3]*stack,\n",
    "    neurons=[8]*stack,\n",
    ")\n",
    "stack = 4\n",
    "bijector = sf.nf.get_bijector(\n",
    "    compose=False,\n",
    "    get_transform=sf.transforms.NDETransform,\n",
    "    get_net=FFNN,\n",
    "    activation=\"tanh\",\n",
    "    trace_est = \"auto\",\n",
    "    n_hidden_layers=3,\n",
    "    neurons=64,\n",
    ")\n",
    "\n",
    "flow_model = Flow(base_dist=base_dist, bijector=bijector)"
   ]
  },
  {
   "cell_type": "code",
   "execution_count": null,
   "metadata": {},
   "outputs": [],
   "source": [
    "results = fit_FFNN(\n",
    "    model=flow_model,\n",
    "    batch_size=256,\n",
    "    compute_loss=sf.nf.monte_carlo_dkl_loss,\n",
    "    optimizer=\"ADAM\",\n",
    "    # optimizer=lambda p : torch.optim.AdamW(p, lr=2e-3, weight_decay=1e-5),\n",
    "    num_epochs=20,\n",
    "    learning_rate=0.01,\n",
    "    # lr_scheduler=lr_scheduler,\n",
    "    data=data,\n",
    "    folds=FOLDS,\n",
    "    verbose=True,\n",
    ")"
   ]
  },
  {
   "cell_type": "code",
   "execution_count": null,
   "metadata": {},
   "outputs": [],
   "source": [
    "model, loss_history, val_history = results"
   ]
  },
  {
   "cell_type": "markdown",
   "metadata": {},
   "source": [
    "Test that the wrapper workps"
   ]
  },
  {
   "cell_type": "code",
   "execution_count": null,
   "metadata": {},
   "outputs": [],
   "source": [
    "plt.plot(loss_history)\n",
    "plt.show()"
   ]
  },
  {
   "cell_type": "code",
   "execution_count": null,
   "metadata": {},
   "outputs": [],
   "source": [
    "noise = base_dist.sample([100])\n",
    "print(\"Log vals=\")\n",
    "\n",
    "print(\"Noise :\", model.log_prob(noise[0:1]).mean().item())\n",
    "print(\"Trian data:\", model.log_prob(data[:][0]).mean().item())"
   ]
  },
  {
   "cell_type": "code",
   "execution_count": null,
   "metadata": {},
   "outputs": [],
   "source": [
    "norm_sample = base_dist.sample([1000])\n",
    "model.bijector.model.nde.t_span = torch.linspace(1,0,2)\n",
    "sample = model.sample([10000])\n",
    "print(model.bijector.model)\n",
    "print(norm_sample.shape, sample.shape)\n",
    "plt.scatter(sample[:,0], sample[:,1], alpha=0.5)\n",
    "plt.show()\n",
    "#\n",
    "# import  torch.distributions.transforms"
   ]
  },
  {
   "cell_type": "code",
   "execution_count": null,
   "metadata": {},
   "outputs": [],
   "source": [
    "y,= data[:]\n",
    "plt.scatter(y[:,0], y[:,1])\n",
    "plt.show()"
   ]
  },
  {
   "cell_type": "code",
   "execution_count": null,
   "metadata": {},
   "outputs": [],
   "source": []
  }
 ],
 "metadata": {
  "interpreter": {
   "hash": "aee8b7b246df8f9039afb4144a1f6fd8d2ca17a180786b69acc140d282b71a49"
  },
  "kernelspec": {
   "display_name": "Python 3 (ipykernel)",
   "language": "python",
   "name": "python3"
  },
  "language_info": {
   "codemirror_mode": {
    "name": "ipython",
    "version": 3
   },
   "file_extension": ".py",
   "mimetype": "text/x-python",
   "name": "python",
   "nbconvert_exporter": "python",
   "pygments_lexer": "ipython3"
  }
 },
 "nbformat": 4,
 "nbformat_minor": 4
}
