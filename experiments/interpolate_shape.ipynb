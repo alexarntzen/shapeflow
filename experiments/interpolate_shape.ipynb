{
 "cells": [
  {
   "cell_type": "markdown",
   "metadata": {},
   "source": [
    "### Interpolate human motion\n",
    "\n",
    "In this experiment we interpolate between two walking human motions. We compare both latent space and feature space interpolation."
   ]
  },
  {
   "cell_type": "code",
   "execution_count": null,
   "metadata": {},
   "outputs": [],
   "source": [
    "import numpy as np\n",
    "import copy\n",
    "import os\n",
    "import matplotlib.pyplot as plt\n",
    "import matplotlib\n",
    "from matplotlib_inline.backend_inline import set_matplotlib_formats\n",
    "import seaborn as sns\n",
    "import torch\n",
    "import torch.distributions as dist\n",
    "from signatureshape.animation import fetch_animations\n",
    "from signatureshape.animation.src.mayavi_animate import mayavi_animate\n",
    "\n",
    "import extratorch as etorch\n",
    "import shapeflow as sf"
   ]
  },
  {
   "cell_type": "code",
   "execution_count": null,
   "metadata": {},
   "outputs": [],
   "source": [
    "# make reproducible\n",
    "seed = torch.manual_seed(0)\n",
    "\n",
    "# better plotting\n",
    "set_matplotlib_formats(\"pdf\", \"svg\")\n",
    "matplotlib.rcParams.update({\"font.size\": 12})\n",
    "set_matplotlib_formats(\"pdf\", \"svg\")\n",
    "plt.style.use(\"tableau-colorblind10\")\n",
    "sns.set_style(\"white\")"
   ]
  },
  {
   "cell_type": "markdown",
   "metadata": {},
   "source": [
    "Here we load and standardize motion capture data. (Same as other notebooks)"
   ]
  },
  {
   "cell_type": "code",
   "execution_count": null,
   "metadata": {},
   "outputs": [],
   "source": [
    "# we assume all have the same skeleton\n",
    "print(\"Loading mocap data:\")\n",
    "\n",
    "# walk  data\n",
    "walk_subjects = [\"07\", \"08\", \"35\", \"16\"]\n",
    "walk_animations = []\n",
    "for s in walk_subjects:\n",
    "    for t in fetch_animations(100, subject_file_name=(s + \".asf\")):\n",
    "        if t[2][:4] == \"walk\":\n",
    "            walk_animations.append(t[1])\n",
    "\n",
    "# run data\n",
    "run_subjects = [\"09\", \"16\", \"35\"]\n",
    "run_animations = []\n",
    "run_skeletons = []\n",
    "for s in run_subjects:\n",
    "    for t in fetch_animations(100, subject_file_name=(s + \".asf\")):\n",
    "        if t[2][:3] == \"run\":\n",
    "            run_skeletons.append(t[0])\n",
    "            run_animations.append(t[1])\n",
    "\n",
    "print(\"Convert to array:\")\n",
    "walk_angle_array = sf.utils.animation_to_eulers(\n",
    "    walk_animations,\n",
    "    reduce_shape=False,\n",
    "    remove_root=True,\n",
    "    deg2rad=True,\n",
    "    max_frame_count=240,\n",
    ")\n",
    "run_angle_array = sf.utils.animation_to_eulers(\n",
    "    run_animations,\n",
    "    reduce_shape=False,\n",
    "    remove_root=True,\n",
    "    deg2rad=True,\n",
    "    max_frame_count=240,\n",
    ")"
   ]
  },
  {
   "cell_type": "code",
   "execution_count": null,
   "metadata": {},
   "outputs": [],
   "source": [
    "# tensors on the form\n",
    "# (motion, time, joint)\n",
    "walk_angle_tensor = torch.tensor(walk_angle_array, dtype=torch.float32)\n",
    "run_angle_tensor = torch.tensor(run_angle_array, dtype=torch.float32)\n",
    "\n",
    "pre_shape_walk = walk_angle_tensor.shape\n",
    "pre_shape_run = run_angle_tensor.shape\n",
    "num_frames = min(pre_shape_walk[1], pre_shape_run[1])\n",
    "\n",
    "nonzero = torch.argwhere(\n",
    "    torch.sum(torch.abs(torch.diff(walk_angle_tensor, dim=1)), dim=[0, 1]) > 0.0\n",
    ").flatten()"
   ]
  },
  {
   "cell_type": "code",
   "execution_count": null,
   "metadata": {},
   "outputs": [],
   "source": [
    "# insert best shapes here\n",
    "skip_frames = 4\n",
    "\n",
    "# cut and reduce frames\n",
    "walk_angles = walk_angle_tensor[:, :num_frames:skip_frames]\n",
    "run_angles = run_angle_tensor[:, :num_frames:skip_frames]\n",
    "wr_angles = torch.cat((walk_angles, run_angles))\n",
    "\n",
    "animation_shape = wr_angles.shape[-2:]\n",
    "animation_shape"
   ]
  },
  {
   "cell_type": "code",
   "execution_count": null,
   "metadata": {},
   "outputs": [],
   "source": [
    "# use only walking angles\n",
    "std, mean = torch.std_mean(walk_angles, dim=0)\n",
    "# std, mean = 1, 0\n",
    "wr_angles_norm = (wr_angles - mean) / std\n",
    "run_angles_norm = (run_angles - mean) / std\n",
    "walk_angles_norm = (walk_angles - mean) / std"
   ]
  },
  {
   "cell_type": "code",
   "execution_count": null,
   "metadata": {},
   "outputs": [],
   "source": [
    "# reshape\n",
    "flatten = False\n",
    "add_channel = True\n",
    "make_frames = False\n",
    "orig_shape_walk = walk_angles.shape\n",
    "orig_shape_run = run_angles.shape\n",
    "orig_shape_wr = wr_angles.shape\n",
    "\n",
    "if add_channel:\n",
    "    walk_angles_nr = torch.unsqueeze(walk_angles_norm, 1)\n",
    "    run_angles_nr = torch.unsqueeze(walk_angles_norm, 1)\n",
    "    wr_angles_nr = torch.unsqueeze(wr_angles_norm, 1)\n",
    "elif flatten:\n",
    "    walk_angles_nr = walk_angles_norm.reshape(\n",
    "        orig_shape_walk[0], orig_shape_walk[1] * orig_shape_walk[2]\n",
    "    )\n",
    "    run_angles_nr = run_angles_norm.reshape(\n",
    "        orig_shape_run[0], orig_shape_run[1] * orig_shape_run[2]\n",
    "    )\n",
    "    wr_angles_nr = wr_angles_norm.reshape(\n",
    "        orig_shape_wr[0], orig_shape_wr[1] * orig_shape_wr[2]\n",
    "    )\n",
    "elif make_frames:\n",
    "    walk_angles_nr = walk_angles_norm.reshape(\n",
    "        orig_shape_walk[0] * orig_shape_walk[1], orig_shape_walk[2]\n",
    "    )\n",
    "    run_angles_nr = run_angles_norm.reshape(\n",
    "        orig_shape_run[0] * orig_shape_run[1], orig_shape_run[2]\n",
    "    )\n",
    "    wr_angles_nr = wr_angles_norm.reshape(\n",
    "        orig_shape_wr[0] * orig_shape_wr[1], orig_shape_wr[2]\n",
    "    )\n",
    "wr_angles_nr.shape"
   ]
  },
  {
   "cell_type": "code",
   "execution_count": null,
   "metadata": {},
   "outputs": [],
   "source": [
    "data = torch.utils.data.TensorDataset(wr_angles_nr)\n",
    "data_walk = torch.utils.data.TensorDataset(walk_angles_nr)\n",
    "data_run = torch.utils.data.TensorDataset(run_angles_nr)"
   ]
  },
  {
   "cell_type": "markdown",
   "metadata": {},
   "source": [
    "Specify model and training parameters, also define some functions."
   ]
  },
  {
   "cell_type": "code",
   "execution_count": null,
   "metadata": {},
   "outputs": [],
   "source": [
    "#######\n",
    "DIR = \"../figures/interpolate_shape/\"\n",
    "SET_NAME = \"walk_residual_5\"\n",
    "PATH_FIGURES = os.path.join(DIR, SET_NAME)\n",
    "########\n",
    "\n",
    "event_shape = data[0][0].shape\n",
    "base_dist = dist.Independent(\n",
    "    dist.Normal(loc=torch.zeros(event_shape), scale=torch.ones(event_shape)), 3\n",
    ")\n",
    "lr_scheduler = lambda optim: torch.optim.lr_scheduler.ReduceLROnPlateau(\n",
    "    optim, mode=\"min\", factor=0.5, patience=20, verbose=True\n",
    ")\n",
    "\n",
    "num_layers = 5\n",
    "MODEL_PARAMS = {\n",
    "    \"model\": [sf.nf.get_flow],\n",
    "    \"get_transform\": [sf.transforms.get_residual_transform],\n",
    "    \"base_dist\": [base_dist],\n",
    "    \"inverse_model\": [False],\n",
    "    \"compose\": [True],\n",
    "    \"CNN\": [[True] * num_layers] * 2,\n",
    "    \"hidden_features\": [[7] * num_layers] * 2,\n",
    "    \"hidden_layers\": [[2] * num_layers] * 2,\n",
    "    \"n_exact_terms\": [[6] * num_layers],\n",
    "    \"n_samples\": [[20] * num_layers],\n",
    "}\n",
    "\n",
    "TRAINING_PARAMS = {\n",
    "    \"batch_size\": [50],\n",
    "    \"compute_loss\": [sf.nf.monte_carlo_dkl_loss],\n",
    "    \"post_batch\": [sf.get_post_step_lipchitz(5)],\n",
    "    \"verbose\": True,\n",
    "    \"verbose_interval\": [10],\n",
    "    \"optimizer\": [\"ADAM\"],\n",
    "    \"num_epochs\": [300],\n",
    "    \"learning_rate\": [0.1],\n",
    "    \"lr_scheduler\": [lr_scheduler],\n",
    "}"
   ]
  },
  {
   "cell_type": "markdown",
   "metadata": {},
   "source": [
    "Do the actual training_"
   ]
  },
  {
   "cell_type": "code",
   "execution_count": null,
   "metadata": {},
   "outputs": [],
   "source": [
    "# create iterators\n",
    "exp_model_params_iter = etorch.create_subdictionary_iterator(MODEL_PARAMS)\n",
    "exp_training_params_iter = etorch.create_subdictionary_iterator(TRAINING_PARAMS)\n",
    "\n",
    "# train model and return results\n",
    "cv_results = etorch.k_fold_cv_grid(\n",
    "    model_params=exp_model_params_iter,\n",
    "    fit=etorch.fit_module,\n",
    "    training_params=exp_training_params_iter,\n",
    "    data=data_walk,\n",
    ")"
   ]
  },
  {
   "cell_type": "markdown",
   "metadata": {},
   "source": [
    "Store and plot results:"
   ]
  },
  {
   "cell_type": "code",
   "execution_count": null,
   "metadata": {},
   "outputs": [],
   "source": [
    "etorch.plotting.plot_result(\n",
    "    path_figures=PATH_FIGURES,\n",
    "    **cv_results,\n",
    ")"
   ]
  },
  {
   "cell_type": "code",
   "execution_count": null,
   "metadata": {},
   "outputs": [],
   "source": [
    "# retrieve model form results dict\n",
    "flow = cv_results[\"models\"][0]"
   ]
  },
  {
   "cell_type": "code",
   "execution_count": null,
   "metadata": {},
   "outputs": [],
   "source": [
    "# for plotting probability we need more accuracy. Use brute force jacobian calculation\n",
    "for i in range(len(flow.bijector.bijectors)):\n",
    "    flow.bijector.bijectors[i].model.iresblock.brute_force = True"
   ]
  },
  {
   "cell_type": "code",
   "execution_count": null,
   "metadata": {},
   "outputs": [],
   "source": [
    "noise = base_dist.sample([100])\n",
    "\n",
    "print(\"Log plots:\")\n",
    "print(\"Noise :\", flow.log_prob(noise).mean().item())\n",
    "print(\"Run data:\", flow.log_prob(data_run[:][0]).mean().item())\n",
    "# print(\"Train data:\", flow.log_prob(data[0:20][0]).mean().item())\n",
    "print(\"Walk data:\", flow.log_prob(data_walk[:][0]).mean().item())"
   ]
  },
  {
   "cell_type": "code",
   "execution_count": null,
   "metadata": {},
   "outputs": [],
   "source": [
    "# choose and load walk motions to interpolate\n",
    "i, j = 0, 8\n",
    "num_int_points = 20\n",
    "x_1 = data_walk[i : i + 1][0]\n",
    "x_2 = data_walk[j : j + 1][0]\n",
    "\n",
    "# create interpolation line\n",
    "line_ = torch.linspace(0, 1, num_int_points)\n",
    "line = torch.reshape(line_, (num_int_points, 1, 1, 1))\n",
    "\n",
    "# transform to latent space\n",
    "z_1 = flow.normalize(x_1)\n",
    "z_2 = flow.normalize(x_2)\n",
    "\n",
    "\n",
    "# create line in latent space and transform\n",
    "z_interp = z_1 * (1 - line) + z_2 * line\n",
    "x_lat_interp = flow.bijector.forward(z_interp)\n",
    "\n",
    "# linear interpolation in feature space\n",
    "x_lin_interp = x_1 * (1 - line) + x_2 * line"
   ]
  },
  {
   "cell_type": "code",
   "execution_count": null,
   "metadata": {},
   "outputs": [],
   "source": [
    "# plot probability of line\n",
    "with torch.no_grad():\n",
    "    lat_log_prob = torch.mean(\n",
    "        torch.stack([flow.log_prob(x_lat_interp) for a in range(10)]), dim=0\n",
    "    )\n",
    "    lin_log_prob = torch.mean(\n",
    "        torch.stack([flow.log_prob(x_lin_interp) for a in range(10)]), dim=0\n",
    "    )\n",
    "    plt.plot(line_, lat_log_prob, \"-\", label=\"Latent space interp.\")\n",
    "    plt.plot(line_, lin_log_prob, \"-.\", label=\"Feature space interp.\")\n",
    "    plt.xlabel(\"$t$\")\n",
    "    plt.ylabel(\"$\\log p_{T(Z)}$\")\n",
    "plt.legend()\n",
    "plt.savefig(\n",
    "    os.path.join(\n",
    "        PATH_FIGURES,\n",
    "        \"interpolation_log_prob.pdf\",\n",
    "    ),\n",
    "    bbox_inches=\"tight\",\n",
    "    pad_inches=0,\n",
    ")\n",
    "plt.show()"
   ]
  },
  {
   "cell_type": "markdown",
   "metadata": {},
   "source": [
    "Show animation of linear feature space interpolation:"
   ]
  },
  {
   "cell_type": "code",
   "execution_count": null,
   "metadata": {},
   "outputs": [],
   "source": [
    "data_input_temp = x_lin_interp * std + mean  # x_lin_interp*std + mean\n",
    "data_input_temp_ = torch.tile(data_input_temp, [1])  # x_lin_interp*std + mean\n",
    "\n",
    "s = data_input_temp.shape\n",
    "frames = np.prod(data_input_temp_.shape)\n",
    "data_input = (data_input_temp_).reshape(frames // 44, 44)\n",
    "test_anim = copy.deepcopy(walk_animations[0])\n",
    "test_anim.from_numpy_array(sf.utils.data_to_motion_array(data_input))\n",
    "skel = copy.deepcopy(run_skeletons[0])\n",
    "anim = mayavi_animate(\n",
    "    skel,\n",
    "    test_anim,\n",
    "    offset=[0, 0, 0],\n",
    "    fixed_cam=False,\n",
    "    frame_limit=-1,\n",
    "    save_path=\"test.svg\",\n",
    ")"
   ]
  },
  {
   "cell_type": "markdown",
   "metadata": {},
   "source": [
    "Show animation of linear latent space interpolation:"
   ]
  },
  {
   "cell_type": "code",
   "execution_count": null,
   "metadata": {},
   "outputs": [],
   "source": [
    "data_input_temp = x_lat_interp * std + mean  # x_lin_interp*std + mean\n",
    "data_input_temp_ = torch.tile(data_input_temp, [1])  # x_lin_interp*std + mean\n",
    "\n",
    "s = data_input_temp.shape\n",
    "frames = np.prod(data_input_temp_.shape)\n",
    "data_input = (data_input_temp_).reshape(frames // 44, 44)\n",
    "\n",
    "test_sample = copy.deepcopy(walk_animations[1])\n",
    "test_sample.from_numpy_array(sf.utils.data_to_motion_array(data_input))\n",
    "skel = copy.deepcopy(run_skeletons[0])\n",
    "anim = mayavi_animate(\n",
    "    skel,\n",
    "    test_sample,\n",
    "    offset=[1, 1, 1],\n",
    "    continuous=False,\n",
    "    fixed_cam=False,\n",
    "    frame_limit=-1,\n",
    "    save_path=\"test.svg\",\n",
    ")"
   ]
  }
 ],
 "metadata": {
  "interpreter": {
   "hash": "aee8b7b246df8f9039afb4144a1f6fd8d2ca17a180786b69acc140d282b71a49"
  },
  "kernelspec": {
   "display_name": "Python 3 (ipykernel)",
   "language": "python",
   "name": "python3"
  },
  "language_info": {
   "codemirror_mode": {
    "name": "ipython",
    "version": 3
   },
   "file_extension": ".py",
   "mimetype": "text/x-python",
   "name": "python",
   "nbconvert_exporter": "python",
   "pygments_lexer": "ipython3"
  }
 },
 "nbformat": 4,
 "nbformat_minor": 4
}
